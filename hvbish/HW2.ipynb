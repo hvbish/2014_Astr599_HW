{
 "metadata": {
  "name": "",
  "signature": "sha256:ecd2dc999544a3b075d417faac23b9be1aaa0f5be4fdabe2e2e49e4a5370789b"
 },
 "nbformat": 3,
 "nbformat_minor": 0,
 "worksheets": [
  {
   "cells": [
    {
     "cell_type": "code",
     "collapsed": false,
     "input": [
      "import numpy as np"
     ],
     "language": "python",
     "metadata": {},
     "outputs": [],
     "prompt_number": 271
    },
    {
     "cell_type": "code",
     "collapsed": false,
     "input": [
      "def func(x):\n",
      "    return np.sin(x)"
     ],
     "language": "python",
     "metadata": {},
     "outputs": [],
     "prompt_number": 272
    },
    {
     "cell_type": "code",
     "collapsed": false,
     "input": [
      "class Integrator:\n",
      "    def __init__(self, a, b, n):\n",
      "        self.a, self.b, self.n = a, b, n\n",
      "        self.points, self.weights = self.integrate(func(x))\n",
      "        \n",
      "    def method(self):\n",
      "        raise NotImplementedError('no rule in class %s' %self.__class__.__name__)\n",
      "        \n",
      "    def integrate(self, func):\n",
      "        N, a, b = self.n, self.a, self.b\n",
      "        inc = (self.b - self.a)/self.n\n",
      "        #for i in range(self.n+1):\n",
      "        #    self.points[i-1] = self.a + (i-1)*inc\n",
      "        #    self.weights[i-1] = func(self.points[i-1])\n",
      "        #from scipy import integrate\n",
      "        #sumtot=0\n",
      "        #for j in range(self.n):\n",
      "            #sumtot += \n",
      "        \n",
      "        from numpy import ones,copy,cos,tan,pi,linspace\n",
      "\n",
      "        def gaussxw(N):\n",
      "\n",
      "            # Initial approximation to roots of the Legendre polynomial\n",
      "            a = linspace(3,4*N-1,N)/(4*N+2)\n",
      "            x = cos(pi*a+1/(8*N*N*tan(a)))\n",
      "\n",
      "            # Find roots using Newton's method\n",
      "            epsilon = 1e-15\n",
      "            delta = 1.0\n",
      "            while delta>epsilon:\n",
      "                p0 = ones(N,float)\n",
      "                p1 = copy(x)\n",
      "                for k in range(1,N):\n",
      "                    p0,p1 = p1,((2*k+1)*x*p1-k*p0)/(k+1)\n",
      "                dp = (N+1)*(p0-x*p1)/(1-x*x)\n",
      "                dx = p1/dp\n",
      "                x -= dx\n",
      "                delta = max(abs(dx))\n",
      "\n",
      "            # Calculate the weights\n",
      "            w = 2*(N+1)*(N+1)/(N*N*(1-x*x)*dp*dp)\n",
      "\n",
      "            return x,w\n",
      "\n",
      "        def gaussxwab(N,a,b):\n",
      "            x,w = gaussxw(N)\n",
      "            return 0.5*(b-a)*x+0.5*(b+a),0.5*(b-a)*w\n",
      "\n",
      "        x, w = gaussxwab(N,a,b)\n",
      "        \n",
      "        sumtot = 0.0\n",
      "        for j in range(N):\n",
      "            sumtot += w[N-1] * func[x[N-1]]\n",
      "        #return sumtot\n",
      "        return x, w\n",
      "        \n",
      "\n"
     ],
     "language": "python",
     "metadata": {},
     "outputs": [],
     "prompt_number": 273
    },
    {
     "cell_type": "code",
     "collapsed": false,
     "input": [
      "class Trapezoidal(Integrator):\n",
      "    \n",
      "    # Initialize child class function \n",
      "    def __init__(self, a, b, n):\n",
      "        super(Trapezoidal, self).__init__(a, b, n)\n",
      "        \n",
      "    def method(self):\n",
      "        for i in range(n):\n",
      "            x[i-1] = a + ((self.b-self.a)/n)*(i-1)\n",
      "            w[i-1] = (self.b-self.a)/n\n",
      "        w = w*2\n",
      "        w[0] = w[0]/2\n",
      "        w[-1] = w[-1]/2\n",
      "        return x, w\n",
      "   \n"
     ],
     "language": "python",
     "metadata": {},
     "outputs": [],
     "prompt_number": 274
    },
    {
     "cell_type": "code",
     "collapsed": false,
     "input": [
      "class Midpoint(Integrator):\n",
      "    \n",
      "    # Initialize child class function \n",
      "    def __init__(self, a, b, n):\n",
      "        super(Midpoint, self).__init__(a, b, n)\n",
      "        \n",
      "    def method(self):\n",
      "        for i in range(n):\n",
      "            x[i-1] = a + ((self.b-self.a)/n)*(i-1) - (((self.b-self.a)/n)/2)\n",
      "            w[i-1] = (self.b-self.a)/n\n",
      "        return x, w"
     ],
     "language": "python",
     "metadata": {},
     "outputs": [],
     "prompt_number": 275
    },
    {
     "cell_type": "code",
     "collapsed": false,
     "input": [
      "%matplotlib inline\n",
      "import matplotlib.pyplot as plt\n",
      "def plotint(c):\n",
      "    intmeth = Integrator(1,10,1000)\n",
      "    x, w = intmeth.integrate(func(c))\n",
      "    fin = np.zeros(1000)\n",
      "    for r in range(1000):\n",
      "        fin[r] = fin[r-1] + w[r-1]*func(x[r-1])\n",
      "    plt.plot(c,-fin+1,'bo');"
     ],
     "language": "python",
     "metadata": {},
     "outputs": [],
     "prompt_number": 276
    },
    {
     "cell_type": "code",
     "collapsed": false,
     "input": [
      "c = np.arange(1000)*0.01\n",
      "plotint(c)"
     ],
     "language": "python",
     "metadata": {},
     "outputs": [
      {
       "metadata": {},
       "output_type": "display_data",
       "png": "[encoded data removed]",
       "text": [
        "<matplotlib.figure.Figure at 0x101e07e50>"
       ]
      }
     ],
     "prompt_number": 277
    },
    {
     "cell_type": "raw",
     "metadata": {},
     "source": []
    },
    {
     "cell_type": "code",
     "collapsed": false,
     "input": [],
     "language": "python",
     "metadata": {},
     "outputs": [],
     "prompt_number": 263
    },
    {
     "cell_type": "code",
     "collapsed": false,
     "input": [],
     "language": "python",
     "metadata": {},
     "outputs": []
    }
   ],
   "metadata": {}
  }
 ]
}